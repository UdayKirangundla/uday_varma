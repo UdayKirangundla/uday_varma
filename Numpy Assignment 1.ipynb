{
 "cells": [
  {
   "cell_type": "code",
   "execution_count": 28,
   "id": "863653d2",
   "metadata": {},
   "outputs": [
    {
     "name": "stdout",
     "output_type": "stream",
     "text": [
      "[[[[[1]]]]]\n",
      "[[[[[0]]]]]\n"
     ]
    }
   ],
   "source": [
    "## 1) Write a program to create a 5 dimensional array with all zeros and ones\n",
    "import numpy as np\n",
    "y=np.array([0],ndmin=5)\n",
    "x=np.array([1],ndmin=5)\n",
    "print(x)\n",
    "print(y)"
   ]
  },
  {
   "cell_type": "code",
   "execution_count": 24,
   "id": "751b1d68",
   "metadata": {},
   "outputs": [
    {
     "name": "stdout",
     "output_type": "stream",
     "text": [
      "[0. 0. 0. 0. 0. 0. 0. 0. 0. 0.]\n",
      "[1. 1. 1. 1. 1. 1. 1. 1. 1. 1.]\n",
      "[5. 5. 5. 5. 5. 5. 5. 5. 5. 5.]\n"
     ]
    }
   ],
   "source": [
    "## 2) Write a program to create an array of 10 zeros,10 ones, and 10 fives in row 1 2 and 3 which create a new array of shape (3,10)\n",
    "array1=np.zeros(10,)\n",
    "array2=np.ones(10,)\n",
    "array=np.ones(10)*5\n",
    "print(array1)\n",
    "print(array2)\n",
    "print(array)"
   ]
  },
  {
   "cell_type": "code",
   "execution_count": 40,
   "id": "5671f8a2",
   "metadata": {},
   "outputs": [
    {
     "name": "stdout",
     "output_type": "stream",
     "text": [
      "[[10 11 12 13]\n",
      " [14 15 16 17]\n",
      " [18 19 20 21]]\n"
     ]
    }
   ],
   "source": [
    "## 3) Write a program to create a 3x4 matrix filled with values from 10 to 21.\n",
    "m=np.arange(10,22).reshape(3,4)\n",
    "print(m)"
   ]
  },
  {
   "cell_type": "code",
   "execution_count": 42,
   "id": "ba199f71",
   "metadata": {},
   "outputs": [
    {
     "data": {
      "text/plain": [
       "array([[0, 0, 0, 0, 0, 0, 0, 0, 0, 0],\n",
       "       [0, 1, 0, 0, 0, 0, 0, 0, 0, 0],\n",
       "       [0, 0, 2, 0, 0, 0, 0, 0, 0, 0],\n",
       "       [0, 0, 0, 3, 0, 0, 0, 0, 0, 0],\n",
       "       [0, 0, 0, 0, 4, 0, 0, 0, 0, 0],\n",
       "       [0, 0, 0, 0, 0, 5, 0, 0, 0, 0],\n",
       "       [0, 0, 0, 0, 0, 0, 6, 0, 0, 0],\n",
       "       [0, 0, 0, 0, 0, 0, 0, 7, 0, 0],\n",
       "       [0, 0, 0, 0, 0, 0, 0, 0, 8, 0],\n",
       "       [0, 0, 0, 0, 0, 0, 0, 0, 0, 9]])"
      ]
     },
     "execution_count": 42,
     "metadata": {},
     "output_type": "execute_result"
    }
   ],
   "source": [
    "## 4) Write a  program to create a 10x10 zero matrix with elements on the main diagonal equal to 0,1,2,3,4,5,6,7,8,9,\n",
    "np.diag([0,1,2,3,4,5,6,7,8,9])"
   ]
  },
  {
   "cell_type": "code",
   "execution_count": 72,
   "id": "03bb5c24",
   "metadata": {},
   "outputs": [
    {
     "name": "stdout",
     "output_type": "stream",
     "text": [
      "[[ 1  2  3  4]\n",
      " [ 5  6  7  8]\n",
      " [ 9 10 11 12]\n",
      " [13 14 15 16]]\n"
     ]
    },
    {
     "data": {
      "text/plain": [
       "array([[ 4,  3,  2,  1],\n",
       "       [ 8,  7,  6,  5],\n",
       "       [12, 11, 10,  9],\n",
       "       [16, 15, 14, 13]])"
      ]
     },
     "execution_count": 72,
     "metadata": {},
     "output_type": "execute_result"
    }
   ],
   "source": [
    "## 5)Write a program to create a 4x4 array. Create an array from below array by swapping first and last, second and third columns.\n",
    "import numpy as np\n",
    "array=np.arange(1,17).reshape(4,4)\n",
    "print(array)\n",
    "array[:,::-1]"
   ]
  },
  {
   "cell_type": "code",
   "execution_count": 52,
   "id": "d79b52d8",
   "metadata": {},
   "outputs": [
    {
     "data": {
      "text/plain": [
       "[27, 26, 25, 24, 23, 22, 21, 20, 19, 18, 17, 16, 15, 14, 13, 12]"
      ]
     },
     "execution_count": 52,
     "metadata": {},
     "output_type": "execute_result"
    }
   ],
   "source": [
    "## 6) Write a program to reverse an array (the first element becomes the last).\n",
    "# Given array: [12 13 14 15 16 17 18 19 20 21 22 23 24 25 26 27 ]\n",
    "array= [12,13,14,15,16,17,18,19,20,21,22,23,24,25,26,27]\n",
    "array[::-1]"
   ]
  },
  {
   "cell_type": "code",
   "execution_count": 71,
   "id": "e70efe28",
   "metadata": {},
   "outputs": [
    {
     "name": "stdout",
     "output_type": "stream",
     "text": [
      "[70 55 60 35 40 60 35 45 35 45 55]\n"
     ]
    }
   ],
   "source": [
    "## 7) Write a program to access all the elements greater than 30 and less than 80 and multiples of 5 from an array of shape 10,10 .Elements range from 1 to 100\n",
    "import numpy as np\n",
    "x=np.random.randint(1,101,(10,10))\n",
    "new_array=x[(x>30)&(x<80)&(x%5==0)]\n",
    "print(new_array)"
   ]
  },
  {
   "cell_type": "code",
   "execution_count": 81,
   "id": "d3890436",
   "metadata": {},
   "outputs": [
    {
     "name": "stdout",
     "output_type": "stream",
     "text": [
      "[[1. 1. 1. 1. 1.]\n",
      " [1. 0. 0. 0. 1.]\n",
      " [1. 0. 0. 0. 1.]\n",
      " [1. 0. 0. 0. 1.]\n",
      " [1. 1. 1. 1. 1.]]\n"
     ]
    }
   ],
   "source": [
    "## 8) Write a program to create a 2D array with 1 on the border and 0 inside.\n",
    "import numpy as np\n",
    "x=np.ones((5,5))\n",
    "x[1:-1,1:-1]=0\n",
    "print(x)"
   ]
  },
  {
   "cell_type": "code",
   "execution_count": 82,
   "id": "792b7354",
   "metadata": {},
   "outputs": [
    {
     "name": "stdout",
     "output_type": "stream",
     "text": [
      "Checkerboard pattern:\n",
      "0 1 0 1 0 1 0 1 \n",
      "1 0 1 0 1 0 1 0 \n",
      "0 1 0 1 0 1 0 1 \n",
      "1 0 1 0 1 0 1 0 \n",
      "0 1 0 1 0 1 0 1 \n",
      "1 0 1 0 1 0 1 0 \n",
      "0 1 0 1 0 1 0 1 \n",
      "1 0 1 0 1 0 1 0 \n"
     ]
    }
   ],
   "source": [
    "# 9) Write a program to create a checkerboard pattern .Don't use default array function Checkerboard pattern:\n",
    "import numpy as np\n",
    "def printcheckerboard(n):\n",
    "    print(\"Checkerboard pattern:\")\n",
    "    x = np.zeros((n, n), dtype=int)\n",
    "    x[1::2, ::2] = 1\n",
    "    x[::2, 1::2] = 1\n",
    "    for i in range(n):\n",
    "        for j in range(n):\n",
    "            print(x[i][j], end=\" \")\n",
    "        print()\n",
    "n = 8\n",
    "printcheckerboard(n)"
   ]
  },
  {
   "cell_type": "code",
   "execution_count": 83,
   "id": "75b63935",
   "metadata": {},
   "outputs": [
    {
     "data": {
      "text/plain": [
       "array([10, 40])"
      ]
     },
     "execution_count": 83,
     "metadata": {},
     "output_type": "execute_result"
    }
   ],
   "source": [
    "# 10) Write a program to find common values between two arrays.\n",
    "array1= [10,20,40,60]\n",
    "array2= [10,30,40,50]\n",
    "np.intersect1d(array1,array2)"
   ]
  },
  {
   "cell_type": "code",
   "execution_count": 104,
   "id": "dd33bcd2",
   "metadata": {},
   "outputs": [],
   "source": [
    "# 11) Write a program to create an array 2d array and then reshape into 1d array\n",
    "x2=np.array([[10,20,10],[1,23,4]])"
   ]
  },
  {
   "cell_type": "code",
   "execution_count": 106,
   "id": "bc2dd7ac",
   "metadata": {},
   "outputs": [
    {
     "data": {
      "text/plain": [
       "array([10, 20, 10,  1, 23,  4])"
      ]
     },
     "execution_count": 106,
     "metadata": {},
     "output_type": "execute_result"
    }
   ],
   "source": [
    "x2.flatten()"
   ]
  },
  {
   "cell_type": "code",
   "execution_count": 112,
   "id": "3b7066a3",
   "metadata": {},
   "outputs": [
    {
     "name": "stdout",
     "output_type": "stream",
     "text": [
      "[0, 0, 0, 0, 0]\n",
      "['2', '2', '2', '2']\n",
      "['2', '2', '2', '2']\n",
      "['2', '2', '2', '2']\n"
     ]
    }
   ],
   "source": [
    "## 12) Write a user defined function for creating a 1 or 2d array from scratch without using array functions\n",
    "\n",
    "def create_array(rows, cols=None, initial_value=None):\n",
    "    if cols is None:\n",
    "        if initial_value is None:\n",
    "            return [0] * rows\n",
    "        else:\n",
    "            return [initial_value] * rows\n",
    "    else:\n",
    "        if initial_value is None:\n",
    "            return [[0] * cols for _ in range(rows)]\n",
    "        else:\n",
    "            return [[initial_value] * cols for _ in range(rows)]\n",
    "one_dimensional_array = create_array(5, initial_value=0)\n",
    "print(one_dimensional_array)\n",
    "two_dimensional_array = create_array(3, 4, initial_value='2')\n",
    "for row in two_dimensional_array:\n",
    "    print(row)\n",
    "\n",
    "\n",
    "\n"
   ]
  },
  {
   "cell_type": "code",
   "execution_count": null,
   "id": "6dc6e64a",
   "metadata": {},
   "outputs": [],
   "source": []
  }
 ],
 "metadata": {
  "kernelspec": {
   "display_name": "Python 3 (ipykernel)",
   "language": "python",
   "name": "python3"
  },
  "language_info": {
   "codemirror_mode": {
    "name": "ipython",
    "version": 3
   },
   "file_extension": ".py",
   "mimetype": "text/x-python",
   "name": "python",
   "nbconvert_exporter": "python",
   "pygments_lexer": "ipython3",
   "version": "3.10.9"
  }
 },
 "nbformat": 4,
 "nbformat_minor": 5
}
